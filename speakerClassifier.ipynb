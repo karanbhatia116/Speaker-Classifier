{
  "nbformat": 4,
  "nbformat_minor": 0,
  "metadata": {
    "colab": {
      "name": "speakerClassifier.ipynb",
      "provenance": [],
      "mount_file_id": "1SbX7QNaEWLbSa3Kj-T_DS6SJtHUJ8l5-",
      "authorship_tag": "ABX9TyN2Zbnmz3Ej3TSUDnA/rNQ+",
      "include_colab_link": true
    },
    "kernelspec": {
      "name": "python3",
      "display_name": "Python 3"
    }
  },
  "cells": [
    {
      "cell_type": "markdown",
      "metadata": {
        "id": "view-in-github",
        "colab_type": "text"
      },
      "source": [
        "<a href=\"https://colab.research.google.com/github/karanbhatia116/Speaker-Classifier/blob/main/speakerClassifier.ipynb\" target=\"_parent\"><img src=\"https://colab.research.google.com/assets/colab-badge.svg\" alt=\"Open In Colab\"/></a>"
      ]
    },
    {
      "cell_type": "code",
      "metadata": {
        "id": "8eF17kHQkHmW"
      },
      "source": [
        "!pip install soundfile"
      ],
      "execution_count": null,
      "outputs": []
    },
    {
      "cell_type": "code",
      "metadata": {
        "id": "CiPy599pUXPB"
      },
      "source": [
        "import os\n",
        "import numpy as np\n",
        "# import soundfile as sf\n",
        "import csv\n",
        "import librosa\n",
        "import tensorflow as tf\n",
        "from tensorflow.keras.layers import Dense, Conv2D, LSTM, MaxPooling2D, Dropout,Flatten\n",
        "from tensorflow.keras.models import Sequential\n",
        "from sklearn.model_selection import train_test_split\n",
        "import matplotlib.pyplot as plt\n",
        "import librosa.display"
      ],
      "execution_count": 2,
      "outputs": []
    },
    {
      "cell_type": "code",
      "metadata": {
        "id": "ULTpmWDHUt-T",
        "outputId": "5636654f-7f71-4a3d-96a6-f1f8026c1c25",
        "colab": {
          "base_uri": "https://localhost:8080/",
          "height": 279
        }
      },
      "source": [
        "Data_Path = '/content/drive/My Drive/Speech Dataset/Libri_subset_Voice_conversion/174/'\n",
        "x = []\n",
        "y = []\n",
        "\n",
        "duration = 2\n",
        "with os.scandir(Data_Path) as entries:\n",
        "  for entry in entries:\n",
        "    if entry.is_dir():\n",
        "      # count = count+1\n",
        "      with os.scandir(entry) as files:\n",
        "        for file_ in files:\n",
        "          if file_.is_file():\n",
        "            data,samplerate = librosa.load(file_,duration = duration)\n",
        "            data, index = librosa.effects.trim(data)\n",
        "            chroma_stft = librosa.feature.chroma_stft(y=data, sr=samplerate)\n",
        "            rmse = librosa.feature.rms(y=data)\n",
        "            spec_cent = librosa.feature.spectral_centroid(y=data, sr=samplerate)\n",
        "            spec_bw = librosa.feature.spectral_bandwidth(y=data, sr=samplerate)\n",
        "            rolloff = librosa.feature.spectral_rolloff(y=data, sr=samplerate)\n",
        "            zcr = librosa.feature.zero_crossing_rate(data)\n",
        "            mfcc = librosa.feature.mfcc(y=data, sr=samplerate)\n",
        "            to_append = f'{file_.name} {np.mean(chroma_stft)} {np.mean(rmse)} {np.mean(spec_cent)} {np.mean(spec_bw)} {np.mean(rolloff)} {np.mean(zcr)}'    \n",
        "            for e in mfcc:\n",
        "              to_append += f' {np.mean(e)}'\n",
        "            to_append += f' {0}'\n",
        "            file = open('dataset.csv', 'a', newline='')\n",
        "            with file:\n",
        "              writer = csv.writer(file)\n",
        "              writer.writerow(to_append.split())\n",
        "            x.append(np.array(mfcc))\n",
        "            y.append([0,1])\n",
        "\n",
        "librosa.display.waveplot(data,samplerate)\n",
        "\n",
        "\n",
        "#If to pring log of frequencies  \n",
        "#librosa.display.specshow(Xdb, sr=sr, x_axis='time', y_axis='log')\n",
        "\n",
        "Data_Path = '/content/drive/My Drive/Speech Dataset/Libri_subset_Voice_conversion/84/'\n",
        "with os.scandir(Data_Path) as entries:\n",
        "  for entry in entries:\n",
        "    if entry.is_dir():\n",
        "      with os.scandir(entry) as files:\n",
        "        for file_ in files:\n",
        "          if file_.is_file():\n",
        "            data,samplerate = librosa.load(file_,duration = duration)\n",
        "            data, index = librosa.effects.trim(data)\n",
        "            chroma_stft = librosa.feature.chroma_stft(y=data, sr=samplerate)\n",
        "            rmse = librosa.feature.rms(y=data)\n",
        "            spec_cent = librosa.feature.spectral_centroid(y=data, sr=samplerate)\n",
        "            spec_bw = librosa.feature.spectral_bandwidth(y=data, sr=samplerate)\n",
        "            rolloff = librosa.feature.spectral_rolloff(y=data, sr=samplerate)\n",
        "            zcr = librosa.feature.zero_crossing_rate(data)\n",
        "            mfcc = librosa.feature.mfcc(y=data, sr=samplerate)\n",
        "            to_append = f'{file_.name} {np.mean(chroma_stft)} {np.mean(rmse)} {np.mean(spec_cent)} {np.mean(spec_bw)} {np.mean(rolloff)} {np.mean(zcr)}'    \n",
        "            for e in mfcc:\n",
        "              to_append += f' {np.mean(e)}'\n",
        "            to_append += f' {1}'\n",
        "            file = open('dataset.csv', 'a', newline='')\n",
        "            with file:\n",
        "              writer = csv.writer(file)\n",
        "              writer.writerow(to_append.split())\n",
        "            x.append(np.array(mfcc))\n",
        "            y.append([1,0])\n",
        "            \n",
        "# Open the first folder\n",
        "\n",
        "# Assign label 1 to all the files\n",
        "\n",
        "# Open second folder\n",
        "\n",
        "# Assign label 2 to all the files\n",
        "\n"
      ],
      "execution_count": 371,
      "outputs": [
        {
          "output_type": "display_data",
          "data": {
            "image/png": "[encoded data removed]",
            "text/plain": [
              "<Figure size 432x288 with 1 Axes>"
            ]
          },
          "metadata": {
            "tags": [],
            "needs_background": "light"
          }
        }
      ]
    },
    {
      "cell_type": "code",
      "metadata": {
        "id": "N3rblhx7mL1E"
      },
      "source": [
        "import pandas as pd\n",
        "header = 'filename chroma_stft rmse spectral_centroid spectral_bandwidth rolloff zero_crossing_rate'\n",
        "for i in range(1, 21):\n",
        "    header += f' mfcc{i}'\n",
        "header += ' label'\n",
        "header = header.split()\n",
        "# print(len(header))\n",
        "data = pd.read_csv('dataset.csv')\n",
        "data.columns = header\n",
        "data = data.drop(['filename'],axis = 1)\n",
        "\n",
        "labels = data.iloc[:, -1]\n",
        "from sklearn.preprocessing import LabelEncoder, StandardScaler\n",
        "\n",
        "encoder = LabelEncoder()\n",
        "\n",
        "y = encoder.fit_transform(labels)\n",
        "scaler = StandardScaler()\n",
        "# print(data)\n",
        "x = scaler.fit_transform(np.array(data.iloc[:, :-1], dtype = float))\n",
        "x_train, x_test, y_train,y_test = train_test_split(x,y,test_size = 0.3,random_state = 42)\n",
        "\n",
        "# x_train,x_test,y_train,y_test = train_test_split(x, y, test_size=0.3, random_state=42)\n",
        "# # Data_Path ='/content/drive/My Drive/Speech Dataset/Libri_subset_Voice_conversion/174/84280'\n",
        "# # with os.scandir(Data_Path) as entries:\n",
        "# #   for entry in entries:\n",
        "# #     data, samplerate = sf.read(entry)\n",
        "# #     x_test.append(data)\n",
        "# #     y_test.append([0, 1])\n",
        "\n",
        "# # Data_Path ='/content/drive/My Drive/Speech Dataset/Libri_subset_Voice_conversion/84/'\n",
        "# # with os.scandir(Data_Path) as entries:\n",
        "# #   for entry in entries:\n",
        "# #     if entry.is_dir():\n",
        "# #       count = 0\n",
        "# #       with os.scandir(entry) as files:\n",
        "# #         for file_ in files:\n",
        "# #           count = count+1\n",
        "# #           if file_.is_file() and count>24:\n",
        "# #             y_test.append([1, 0])\n",
        "# #             data,samplerate = sf.read(file_)\n",
        "# #             x_test.append(data)\n",
        "# print(x_train[0].shape)\n",
        "# print(x_test.shape)\n"
      ],
      "execution_count": 372,
      "outputs": []
    },
    {
      "cell_type": "code",
      "metadata": {
        "id": "ymfOHsUGrmiH",
        "outputId": "3f552416-1c70-477a-ca67-988b3f192587",
        "colab": {
          "base_uri": "https://localhost:8080/",
          "height": 232
        }
      },
      "source": [
        "model = Sequential()\n",
        "model.add(Dense(256, activation='relu', input_shape=(x_train.shape[1],)))\n",
        "model.add(Dropout(0.3))\n",
        "model.add(Dense(128, activation='relu'))\n",
        "model.add(Dropout(0.4))\n",
        "model.add(Dense(64, activation='relu'))\n",
        "model.add(Dropout(0.5))\n",
        "model.add(Dense(2, activation='softmax'))\n",
        "model.compile(optimizer='adam',\n",
        "              loss='sparse_categorical_crossentropy',\n",
        "              metrics=['accuracy'])\n",
        "history=model.fit(x_train,y_train, epochs = 10, validation_data=(x_test,y_test))\n",
        "plt.plot(history.history['loss'], label='train')\n",
        "plt.plot(history.history['val_loss'], label='test')\n",
        "plt.title(\"Val_Loss over time\")\n",
        "plt.legend()\n",
        "plt.show()"
      ],
      "execution_count": 1,
      "outputs": [
        {
          "output_type": "error",
          "ename": "NameError",
          "evalue": "ignored",
          "traceback": [
            "\u001b[0;31m---------------------------------------------------------------------------\u001b[0m",
            "\u001b[0;31mNameError\u001b[0m                                 Traceback (most recent call last)",
            "\u001b[0;32m<ipython-input-1-c88ee026a4c1>\u001b[0m in \u001b[0;36m<module>\u001b[0;34m()\u001b[0m\n\u001b[0;32m----> 1\u001b[0;31m \u001b[0mmodel\u001b[0m \u001b[0;34m=\u001b[0m \u001b[0mSequential\u001b[0m\u001b[0;34m(\u001b[0m\u001b[0;34m)\u001b[0m\u001b[0;34m\u001b[0m\u001b[0;34m\u001b[0m\u001b[0m\n\u001b[0m\u001b[1;32m      2\u001b[0m \u001b[0mmodel\u001b[0m\u001b[0;34m.\u001b[0m\u001b[0madd\u001b[0m\u001b[0;34m(\u001b[0m\u001b[0mDense\u001b[0m\u001b[0;34m(\u001b[0m\u001b[0;36m256\u001b[0m\u001b[0;34m,\u001b[0m \u001b[0mactivation\u001b[0m\u001b[0;34m=\u001b[0m\u001b[0;34m'relu'\u001b[0m\u001b[0;34m,\u001b[0m \u001b[0minput_shape\u001b[0m\u001b[0;34m=\u001b[0m\u001b[0;34m(\u001b[0m\u001b[0mx_train\u001b[0m\u001b[0;34m.\u001b[0m\u001b[0mshape\u001b[0m\u001b[0;34m[\u001b[0m\u001b[0;36m1\u001b[0m\u001b[0;34m]\u001b[0m\u001b[0;34m,\u001b[0m\u001b[0;34m)\u001b[0m\u001b[0;34m)\u001b[0m\u001b[0;34m)\u001b[0m\u001b[0;34m\u001b[0m\u001b[0;34m\u001b[0m\u001b[0m\n\u001b[1;32m      3\u001b[0m \u001b[0mmodel\u001b[0m\u001b[0;34m.\u001b[0m\u001b[0madd\u001b[0m\u001b[0;34m(\u001b[0m\u001b[0mDropout\u001b[0m\u001b[0;34m(\u001b[0m\u001b[0;36m0.3\u001b[0m\u001b[0;34m)\u001b[0m\u001b[0;34m)\u001b[0m\u001b[0;34m\u001b[0m\u001b[0;34m\u001b[0m\u001b[0m\n\u001b[1;32m      4\u001b[0m \u001b[0mmodel\u001b[0m\u001b[0;34m.\u001b[0m\u001b[0madd\u001b[0m\u001b[0;34m(\u001b[0m\u001b[0mDense\u001b[0m\u001b[0;34m(\u001b[0m\u001b[0;36m128\u001b[0m\u001b[0;34m,\u001b[0m \u001b[0mactivation\u001b[0m\u001b[0;34m=\u001b[0m\u001b[0;34m'relu'\u001b[0m\u001b[0;34m)\u001b[0m\u001b[0;34m)\u001b[0m\u001b[0;34m\u001b[0m\u001b[0;34m\u001b[0m\u001b[0m\n\u001b[1;32m      5\u001b[0m \u001b[0mmodel\u001b[0m\u001b[0;34m.\u001b[0m\u001b[0madd\u001b[0m\u001b[0;34m(\u001b[0m\u001b[0mDropout\u001b[0m\u001b[0;34m(\u001b[0m\u001b[0;36m0.4\u001b[0m\u001b[0;34m)\u001b[0m\u001b[0;34m)\u001b[0m\u001b[0;34m\u001b[0m\u001b[0;34m\u001b[0m\u001b[0m\n",
            "\u001b[0;31mNameError\u001b[0m: name 'Sequential' is not defined"
          ]
        }
      ]
    },
    {
      "cell_type": "code",
      "metadata": {
        "id": "ci7oOYsLErFv"
      },
      "source": [
        ""
      ],
      "execution_count": null,
      "outputs": []
    },
    {
      "cell_type": "code",
      "metadata": {
        "id": "JFaIcb4xJJji"
      },
      "source": [
        ""
      ],
      "execution_count": null,
      "outputs": []
    }
  ]
}